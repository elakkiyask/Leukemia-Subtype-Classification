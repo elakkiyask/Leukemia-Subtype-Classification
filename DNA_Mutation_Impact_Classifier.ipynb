{
  "nbformat": 4,
  "nbformat_minor": 0,
  "metadata": {
    "colab": {
      "provenance": []
    },
    "kernelspec": {
      "name": "python3",
      "display_name": "Python 3"
    },
    "language_info": {
      "name": "python"
    }
  },
  "cells": [
    {
      "cell_type": "code",
      "source": [
        "import numpy as np\n",
        "import pandas as pd\n",
        "from sklearn.datasets import fetch_openml\n",
        "from sklearn.model_selection import train_test_split, cross_val_score\n",
        "from sklearn.preprocessing import LabelEncoder\n",
        "from sklearn.feature_selection import SelectKBest, f_classif\n",
        "from sklearn.ensemble import RandomForestClassifier\n",
        "from sklearn.pipeline import Pipeline\n",
        "from sklearn.metrics import accuracy_score, classification_report\n",
        "\n",
        "dataset = fetch_openml(\"leukemia\", version=1, as_frame=True)\n",
        "X = dataset.data\n",
        "y = dataset.target\n",
        "\n",
        "# Encode class labels (ALL, AML: 0, 1)\n",
        "le = LabelEncoder()\n",
        "y_encoded = le.fit_transform(y)\n",
        "\n",
        "# Split into train/test sets (stratified)\n",
        "X_train, X_test, y_train, y_test = train_test_split(X, y_encoded, test_size=0.2, stratify=y_encoded, random_state=42)\n",
        "\n",
        "# Build ML pipeline\n",
        "# Select top 100 genes using ANOVA F-test then apply RF\n",
        "pipeline = Pipeline([\n",
        "    ('select', SelectKBest(score_func=f_classif, k=100)),\n",
        "    ('clf', RandomForestClassifier(n_estimators=100, random_state=42))\n",
        "])\n",
        "\n",
        "# Train the model\n",
        "pipeline.fit(X_train, y_train)\n",
        "\n",
        "# Evaluate the model\n",
        "y_pred = pipeline.predict(X_test)\n",
        "print(\"Random Forest Classification Report:\")\n",
        "print(\"Accuracy:\", accuracy_score(y_test, y_pred))\n",
        "print(classification_report(y_test, y_pred, target_names=le.classes_))\n",
        "\n",
        "# Cross-validation\n",
        "cv_scores = cross_val_score(pipeline, X, y_encoded, cv=5)\n",
        "print(\"Cross-Validated Accuracy: %.2f%%\" % (100 * cv_scores.mean()))\n"
      ],
      "metadata": {
        "colab": {
          "base_uri": "https://localhost:8080/"
        },
        "id": "pfsu7FrmBWrh",
        "outputId": "756e360b-04d2-47f3-fa7a-737e1d105e22"
      },
      "execution_count": 31,
      "outputs": [
        {
          "output_type": "stream",
          "name": "stdout",
          "text": [
            "Random Forest Classification Report:\n",
            "Accuracy: 0.9333333333333333\n",
            "              precision    recall  f1-score   support\n",
            "\n",
            "         ALL       0.91      1.00      0.95        10\n",
            "         AML       1.00      0.80      0.89         5\n",
            "\n",
            "    accuracy                           0.93        15\n",
            "   macro avg       0.95      0.90      0.92        15\n",
            "weighted avg       0.94      0.93      0.93        15\n",
            "\n",
            "Cross-Validated Accuracy: 98.57%\n"
          ]
        }
      ]
    }
  ]
}